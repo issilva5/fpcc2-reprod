{
 "cells": [
  {
   "cell_type": "code",
   "execution_count": 4,
   "metadata": {},
   "outputs": [],
   "source": [
    "import os\n",
    "import pandas as pd\n",
    "import numpy as np\n",
    "from datetime import datetime"
   ]
  },
  {
   "cell_type": "code",
   "execution_count": 5,
   "metadata": {},
   "outputs": [],
   "source": [
    "DATASET = 'LastFM'  # only support \"ml-100k\" and \"ml-1m\" now\n",
    "RAW_PATH = os.path.join('./', DATASET)\n",
    "\n",
    "RANDOM_SEED = 0\n",
    "NEG_ITEMS = 99"
   ]
  },
  {
   "cell_type": "markdown",
   "metadata": {},
   "source": [
    "# Load Data\n",
    "\n",
    "1. Load interaction data and item metadata\n",
    "2. Filter out items with less than 5 interactions\n",
    "3. Calculate basic statistics"
   ]
  },
  {
   "cell_type": "code",
   "execution_count": 6,
   "metadata": {},
   "outputs": [],
   "source": [
    "data_df = pd.read_csv(os.path.join(DATASET, 'u.data'))"
   ]
  },
  {
   "cell_type": "code",
   "execution_count": 26,
   "metadata": {},
   "outputs": [],
   "source": [
    "meta_df = pd.read_csv(os.path.join(DATASET, 'u.item'))"
   ]
  },
  {
   "cell_type": "code",
   "execution_count": 7,
   "metadata": {},
   "outputs": [],
   "source": [
    "data_df = data_df.groupby('user_id', group_keys=False).apply(lambda x: x.sample(frac=0.05))"
   ]
  },
  {
   "cell_type": "code",
   "execution_count": 8,
   "metadata": {},
   "outputs": [
    {
     "data": {
      "text/html": [
       "<div>\n",
       "<style scoped>\n",
       "    .dataframe tbody tr th:only-of-type {\n",
       "        vertical-align: middle;\n",
       "    }\n",
       "\n",
       "    .dataframe tbody tr th {\n",
       "        vertical-align: top;\n",
       "    }\n",
       "\n",
       "    .dataframe thead th {\n",
       "        text-align: right;\n",
       "    }\n",
       "</style>\n",
       "<table border=\"1\" class=\"dataframe\">\n",
       "  <thead>\n",
       "    <tr style=\"text-align: right;\">\n",
       "      <th></th>\n",
       "      <th>user_id</th>\n",
       "      <th>item_id</th>\n",
       "      <th>time</th>\n",
       "    </tr>\n",
       "  </thead>\n",
       "  <tbody>\n",
       "    <tr>\n",
       "      <th>3609</th>\n",
       "      <td>user_000001</td>\n",
       "      <td>268baf7b-f29b-4c31-b2a4-60f9398c1f0b</td>\n",
       "      <td>1228660775</td>\n",
       "    </tr>\n",
       "    <tr>\n",
       "      <th>9906</th>\n",
       "      <td>user_000001</td>\n",
       "      <td>1acc9160-91dd-429f-a483-69eeb1b76118</td>\n",
       "      <td>1166001500</td>\n",
       "    </tr>\n",
       "    <tr>\n",
       "      <th>3359</th>\n",
       "      <td>user_000001</td>\n",
       "      <td>614fe1f9-b635-4ddc-a4cb-03116750cbc0</td>\n",
       "      <td>1229767563</td>\n",
       "    </tr>\n",
       "    <tr>\n",
       "      <th>1160</th>\n",
       "      <td>user_000001</td>\n",
       "      <td>ed6b0da1-b781-4c22-be7a-6ddfeec28042</td>\n",
       "      <td>1237641058</td>\n",
       "    </tr>\n",
       "    <tr>\n",
       "      <th>7563</th>\n",
       "      <td>user_000001</td>\n",
       "      <td>f59bfff4-1784-4ef6-84e5-75da053ba39a</td>\n",
       "      <td>1206452129</td>\n",
       "    </tr>\n",
       "  </tbody>\n",
       "</table>\n",
       "</div>"
      ],
      "text/plain": [
       "          user_id                               item_id        time\n",
       "3609  user_000001  268baf7b-f29b-4c31-b2a4-60f9398c1f0b  1228660775\n",
       "9906  user_000001  1acc9160-91dd-429f-a483-69eeb1b76118  1166001500\n",
       "3359  user_000001  614fe1f9-b635-4ddc-a4cb-03116750cbc0  1229767563\n",
       "1160  user_000001  ed6b0da1-b781-4c22-be7a-6ddfeec28042  1237641058\n",
       "7563  user_000001  f59bfff4-1784-4ef6-84e5-75da053ba39a  1206452129"
      ]
     },
     "execution_count": 8,
     "metadata": {},
     "output_type": "execute_result"
    }
   ],
   "source": [
    "data_df.head()"
   ]
  },
  {
   "cell_type": "code",
   "execution_count": 9,
   "metadata": {},
   "outputs": [
    {
     "name": "stdout",
     "output_type": "stream",
     "text": [
      "Filter before: 833550\n",
      "Filter after: 457554\n"
     ]
    }
   ],
   "source": [
    "# Only retain users and items with at least 5 associated interactions\n",
    "\n",
    "print('Filter before:', len(data_df))\n",
    "filter_before = -1\n",
    "while filter_before != len(data_df):\n",
    "    filter_before = len(data_df)\n",
    "    for stage in ['user_id', 'item_id']:\n",
    "        val_cnt = data_df[stage].value_counts()\n",
    "        cnt_df = pd.DataFrame({stage: val_cnt.index, 'cnt': val_cnt.values})\n",
    "        data_df = pd.merge(data_df, cnt_df, on=stage, how='left')\n",
    "        data_df = data_df[data_df['cnt'] >= 5].drop(columns=['cnt'])\n",
    "print('Filter after:', len(data_df))"
   ]
  },
  {
   "cell_type": "markdown",
   "metadata": {},
   "source": [
    "### Statistics"
   ]
  },
  {
   "cell_type": "code",
   "execution_count": 10,
   "metadata": {},
   "outputs": [],
   "source": [
    "n_users = data_df['user_id'].value_counts().size\n",
    "n_items = data_df['item_id'].value_counts().size\n",
    "n_clicks = len(data_df)\n",
    "min_time = data_df['time'].min()\n",
    "max_time = data_df['time'].max()"
   ]
  },
  {
   "cell_type": "code",
   "execution_count": 11,
   "metadata": {},
   "outputs": [
    {
     "name": "stdout",
     "output_type": "stream",
     "text": [
      "# Users: 932\n",
      "# Items: 38441\n",
      "# Interactions: 457554\n",
      "Time Span: 2005-02-14/2009-06-19\n"
     ]
    }
   ],
   "source": [
    "time_format = '%Y-%m-%d'\n",
    "\n",
    "print('# Users:', n_users)\n",
    "print('# Items:', n_items)\n",
    "print('# Interactions:', n_clicks)\n",
    "print('Time Span: {}/{}'.format(\n",
    "    datetime.utcfromtimestamp(min_time).strftime(time_format),\n",
    "    datetime.utcfromtimestamp(max_time).strftime(time_format))\n",
    ")"
   ]
  },
  {
   "cell_type": "markdown",
   "metadata": {},
   "source": [
    "# Build Dataset\n",
    "\n",
    "### Interaction data"
   ]
  },
  {
   "cell_type": "code",
   "execution_count": 12,
   "metadata": {},
   "outputs": [],
   "source": [
    "np.random.seed(RANDOM_SEED)"
   ]
  },
  {
   "cell_type": "code",
   "execution_count": 13,
   "metadata": {},
   "outputs": [
    {
     "data": {
      "text/html": [
       "<div>\n",
       "<style scoped>\n",
       "    .dataframe tbody tr th:only-of-type {\n",
       "        vertical-align: middle;\n",
       "    }\n",
       "\n",
       "    .dataframe tbody tr th {\n",
       "        vertical-align: top;\n",
       "    }\n",
       "\n",
       "    .dataframe thead th {\n",
       "        text-align: right;\n",
       "    }\n",
       "</style>\n",
       "<table border=\"1\" class=\"dataframe\">\n",
       "  <thead>\n",
       "    <tr style=\"text-align: right;\">\n",
       "      <th></th>\n",
       "      <th>user_id</th>\n",
       "      <th>item_id</th>\n",
       "      <th>time</th>\n",
       "    </tr>\n",
       "  </thead>\n",
       "  <tbody>\n",
       "    <tr>\n",
       "      <th>0</th>\n",
       "      <td>user_000142</td>\n",
       "      <td>bc862198-8883-4253-b1b6-51f2d3048e85</td>\n",
       "      <td>1108339681</td>\n",
       "    </tr>\n",
       "    <tr>\n",
       "      <th>1</th>\n",
       "      <td>user_000174</td>\n",
       "      <td>c08da71c-e876-43d2-8756-3d3674fae876</td>\n",
       "      <td>1108341519</td>\n",
       "    </tr>\n",
       "    <tr>\n",
       "      <th>2</th>\n",
       "      <td>user_000896</td>\n",
       "      <td>c0980230-a5f2-454a-9fdc-fbee776830d3</td>\n",
       "      <td>1108349399</td>\n",
       "    </tr>\n",
       "    <tr>\n",
       "      <th>3</th>\n",
       "      <td>user_000525</td>\n",
       "      <td>e7c33739-abde-44c4-844f-a185abb025f6</td>\n",
       "      <td>1108359501</td>\n",
       "    </tr>\n",
       "    <tr>\n",
       "      <th>4</th>\n",
       "      <td>user_000525</td>\n",
       "      <td>1d69ccec-231f-48d9-bc53-ac195ef7854e</td>\n",
       "      <td>1108360234</td>\n",
       "    </tr>\n",
       "  </tbody>\n",
       "</table>\n",
       "</div>"
      ],
      "text/plain": [
       "       user_id                               item_id        time\n",
       "0  user_000142  bc862198-8883-4253-b1b6-51f2d3048e85  1108339681\n",
       "1  user_000174  c08da71c-e876-43d2-8756-3d3674fae876  1108341519\n",
       "2  user_000896  c0980230-a5f2-454a-9fdc-fbee776830d3  1108349399\n",
       "3  user_000525  e7c33739-abde-44c4-844f-a185abb025f6  1108359501\n",
       "4  user_000525  1d69ccec-231f-48d9-bc53-ac195ef7854e  1108360234"
      ]
     },
     "execution_count": 13,
     "metadata": {},
     "output_type": "execute_result"
    }
   ],
   "source": [
    "out_df = data_df[['user_id', 'item_id', 'time']]\n",
    "out_df = out_df.drop_duplicates(['user_id', 'item_id', 'time'])\n",
    "out_df.sort_values(by=['time', 'user_id'], kind='mergesort', inplace=True)\n",
    "out_df = out_df.reset_index(drop=True)\n",
    "out_df.head()"
   ]
  },
  {
   "cell_type": "code",
   "execution_count": 14,
   "metadata": {},
   "outputs": [
    {
     "data": {
      "text/html": [
       "<div>\n",
       "<style scoped>\n",
       "    .dataframe tbody tr th:only-of-type {\n",
       "        vertical-align: middle;\n",
       "    }\n",
       "\n",
       "    .dataframe tbody tr th {\n",
       "        vertical-align: top;\n",
       "    }\n",
       "\n",
       "    .dataframe thead th {\n",
       "        text-align: right;\n",
       "    }\n",
       "</style>\n",
       "<table border=\"1\" class=\"dataframe\">\n",
       "  <thead>\n",
       "    <tr style=\"text-align: right;\">\n",
       "      <th></th>\n",
       "      <th>user_id</th>\n",
       "      <th>item_id</th>\n",
       "      <th>time</th>\n",
       "    </tr>\n",
       "  </thead>\n",
       "  <tbody>\n",
       "    <tr>\n",
       "      <th>0</th>\n",
       "      <td>131</td>\n",
       "      <td>28388</td>\n",
       "      <td>1108339681</td>\n",
       "    </tr>\n",
       "    <tr>\n",
       "      <th>1</th>\n",
       "      <td>161</td>\n",
       "      <td>29023</td>\n",
       "      <td>1108341519</td>\n",
       "    </tr>\n",
       "    <tr>\n",
       "      <th>2</th>\n",
       "      <td>837</td>\n",
       "      <td>29029</td>\n",
       "      <td>1108349399</td>\n",
       "    </tr>\n",
       "    <tr>\n",
       "      <th>3</th>\n",
       "      <td>493</td>\n",
       "      <td>34789</td>\n",
       "      <td>1108359501</td>\n",
       "    </tr>\n",
       "    <tr>\n",
       "      <th>4</th>\n",
       "      <td>493</td>\n",
       "      <td>4388</td>\n",
       "      <td>1108360234</td>\n",
       "    </tr>\n",
       "  </tbody>\n",
       "</table>\n",
       "</div>"
      ],
      "text/plain": [
       "   user_id  item_id        time\n",
       "0      131    28388  1108339681\n",
       "1      161    29023  1108341519\n",
       "2      837    29029  1108349399\n",
       "3      493    34789  1108359501\n",
       "4      493     4388  1108360234"
      ]
     },
     "execution_count": 14,
     "metadata": {},
     "output_type": "execute_result"
    }
   ],
   "source": [
    "# reindex (start from 1)\n",
    "\n",
    "uids = sorted(out_df['user_id'].unique())\n",
    "user2id = dict(zip(uids, range(1, len(uids) + 1)))\n",
    "iids = sorted(out_df['item_id'].unique())\n",
    "item2id = dict(zip(iids, range(1, len(iids) + 1)))\n",
    "\n",
    "out_df['user_id'] = out_df['user_id'].apply(lambda x: user2id[x])\n",
    "out_df['item_id'] = out_df['item_id'].apply(lambda x: item2id[x])\n",
    "out_df.head()"
   ]
  },
  {
   "cell_type": "code",
   "execution_count": 15,
   "metadata": {},
   "outputs": [],
   "source": [
    "# leave one out spliting\n",
    "\n",
    "clicked_item_set = dict()\n",
    "for user_id, seq_df in out_df.groupby('user_id'):\n",
    "    clicked_item_set[user_id] = set(seq_df['item_id'].values.tolist())\n",
    "    \n",
    "def generate_dev_test(data_df):\n",
    "    result_dfs = []\n",
    "    n_items = data_df['item_id'].value_counts().size\n",
    "    for idx in range(2):\n",
    "        result_df = data_df.groupby('user_id').tail(1).copy()\n",
    "        data_df = data_df.drop(result_df.index)\n",
    "        neg_items = np.random.randint(1, n_items + 1, (len(result_df), NEG_ITEMS))\n",
    "        for i, uid in enumerate(result_df['user_id'].values):\n",
    "            user_clicked = clicked_item_set[uid]\n",
    "            for j in range(len(neg_items[i])):\n",
    "                while neg_items[i][j] in user_clicked:\n",
    "                    neg_items[i][j] = np.random.randint(1, n_items + 1)\n",
    "        result_df['neg_items'] = neg_items.tolist()\n",
    "        result_dfs.append(result_df)\n",
    "    return result_dfs, data_df"
   ]
  },
  {
   "cell_type": "code",
   "execution_count": 16,
   "metadata": {},
   "outputs": [
    {
     "data": {
      "text/plain": [
       "(455690, 932, 932)"
      ]
     },
     "execution_count": 16,
     "metadata": {},
     "output_type": "execute_result"
    }
   ],
   "source": [
    "leave_df = out_df.groupby('user_id').head(1)\n",
    "data_df = out_df.drop(leave_df.index)\n",
    "\n",
    "[test_df, dev_df], data_df = generate_dev_test(data_df)\n",
    "train_df = pd.concat([leave_df, data_df]).sort_index()\n",
    "\n",
    "len(train_df), len(dev_df), len(test_df)"
   ]
  },
  {
   "cell_type": "code",
   "execution_count": 17,
   "metadata": {},
   "outputs": [
    {
     "data": {
      "text/html": [
       "<div>\n",
       "<style scoped>\n",
       "    .dataframe tbody tr th:only-of-type {\n",
       "        vertical-align: middle;\n",
       "    }\n",
       "\n",
       "    .dataframe tbody tr th {\n",
       "        vertical-align: top;\n",
       "    }\n",
       "\n",
       "    .dataframe thead th {\n",
       "        text-align: right;\n",
       "    }\n",
       "</style>\n",
       "<table border=\"1\" class=\"dataframe\">\n",
       "  <thead>\n",
       "    <tr style=\"text-align: right;\">\n",
       "      <th></th>\n",
       "      <th>user_id</th>\n",
       "      <th>item_id</th>\n",
       "      <th>time</th>\n",
       "    </tr>\n",
       "  </thead>\n",
       "  <tbody>\n",
       "    <tr>\n",
       "      <th>0</th>\n",
       "      <td>131</td>\n",
       "      <td>28388</td>\n",
       "      <td>1108339681</td>\n",
       "    </tr>\n",
       "    <tr>\n",
       "      <th>1</th>\n",
       "      <td>161</td>\n",
       "      <td>29023</td>\n",
       "      <td>1108341519</td>\n",
       "    </tr>\n",
       "    <tr>\n",
       "      <th>2</th>\n",
       "      <td>837</td>\n",
       "      <td>29029</td>\n",
       "      <td>1108349399</td>\n",
       "    </tr>\n",
       "    <tr>\n",
       "      <th>3</th>\n",
       "      <td>493</td>\n",
       "      <td>34789</td>\n",
       "      <td>1108359501</td>\n",
       "    </tr>\n",
       "    <tr>\n",
       "      <th>4</th>\n",
       "      <td>493</td>\n",
       "      <td>4388</td>\n",
       "      <td>1108360234</td>\n",
       "    </tr>\n",
       "    <tr>\n",
       "      <th>...</th>\n",
       "      <td>...</td>\n",
       "      <td>...</td>\n",
       "      <td>...</td>\n",
       "    </tr>\n",
       "    <tr>\n",
       "      <th>457543</th>\n",
       "      <td>572</td>\n",
       "      <td>20177</td>\n",
       "      <td>1245402592</td>\n",
       "    </tr>\n",
       "    <tr>\n",
       "      <th>457545</th>\n",
       "      <td>896</td>\n",
       "      <td>38316</td>\n",
       "      <td>1245407701</td>\n",
       "    </tr>\n",
       "    <tr>\n",
       "      <th>457547</th>\n",
       "      <td>896</td>\n",
       "      <td>34752</td>\n",
       "      <td>1245411903</td>\n",
       "    </tr>\n",
       "    <tr>\n",
       "      <th>457548</th>\n",
       "      <td>896</td>\n",
       "      <td>3009</td>\n",
       "      <td>1245416949</td>\n",
       "    </tr>\n",
       "    <tr>\n",
       "      <th>457549</th>\n",
       "      <td>896</td>\n",
       "      <td>21288</td>\n",
       "      <td>1245419011</td>\n",
       "    </tr>\n",
       "  </tbody>\n",
       "</table>\n",
       "<p>455690 rows × 3 columns</p>\n",
       "</div>"
      ],
      "text/plain": [
       "        user_id  item_id        time\n",
       "0           131    28388  1108339681\n",
       "1           161    29023  1108341519\n",
       "2           837    29029  1108349399\n",
       "3           493    34789  1108359501\n",
       "4           493     4388  1108360234\n",
       "...         ...      ...         ...\n",
       "457543      572    20177  1245402592\n",
       "457545      896    38316  1245407701\n",
       "457547      896    34752  1245411903\n",
       "457548      896     3009  1245416949\n",
       "457549      896    21288  1245419011\n",
       "\n",
       "[455690 rows x 3 columns]"
      ]
     },
     "execution_count": 17,
     "metadata": {},
     "output_type": "execute_result"
    }
   ],
   "source": [
    "train_df"
   ]
  },
  {
   "cell_type": "code",
   "execution_count": 18,
   "metadata": {},
   "outputs": [
    {
     "data": {
      "text/html": [
       "<div>\n",
       "<style scoped>\n",
       "    .dataframe tbody tr th:only-of-type {\n",
       "        vertical-align: middle;\n",
       "    }\n",
       "\n",
       "    .dataframe tbody tr th {\n",
       "        vertical-align: top;\n",
       "    }\n",
       "\n",
       "    .dataframe thead th {\n",
       "        text-align: right;\n",
       "    }\n",
       "</style>\n",
       "<table border=\"1\" class=\"dataframe\">\n",
       "  <thead>\n",
       "    <tr style=\"text-align: right;\">\n",
       "      <th></th>\n",
       "      <th>user_id</th>\n",
       "      <th>item_id</th>\n",
       "      <th>time</th>\n",
       "      <th>neg_items</th>\n",
       "    </tr>\n",
       "  </thead>\n",
       "  <tbody>\n",
       "    <tr>\n",
       "      <th>3070</th>\n",
       "      <td>389</td>\n",
       "      <td>20829</td>\n",
       "      <td>1114450290</td>\n",
       "      <td>[2733, 21244, 30404, 32104, 20758, 14936, 1543...</td>\n",
       "    </tr>\n",
       "    <tr>\n",
       "      <th>9086</th>\n",
       "      <td>129</td>\n",
       "      <td>22903</td>\n",
       "      <td>1122313187</td>\n",
       "      <td>[15042, 23307, 36951, 13161, 26636, 33076, 133...</td>\n",
       "    </tr>\n",
       "    <tr>\n",
       "      <th>18112</th>\n",
       "      <td>166</td>\n",
       "      <td>19741</td>\n",
       "      <td>1130607605</td>\n",
       "      <td>[5209, 6178, 4864, 8390, 895, 30143, 32905, 26...</td>\n",
       "    </tr>\n",
       "    <tr>\n",
       "      <th>19100</th>\n",
       "      <td>565</td>\n",
       "      <td>20640</td>\n",
       "      <td>1131333963</td>\n",
       "      <td>[11591, 11318, 9009, 31839, 18492, 14673, 2626...</td>\n",
       "    </tr>\n",
       "    <tr>\n",
       "      <th>40001</th>\n",
       "      <td>802</td>\n",
       "      <td>23084</td>\n",
       "      <td>1141534830</td>\n",
       "      <td>[18356, 11466, 13750, 34440, 33375, 18505, 158...</td>\n",
       "    </tr>\n",
       "  </tbody>\n",
       "</table>\n",
       "</div>"
      ],
      "text/plain": [
       "       user_id  item_id        time  \\\n",
       "3070       389    20829  1114450290   \n",
       "9086       129    22903  1122313187   \n",
       "18112      166    19741  1130607605   \n",
       "19100      565    20640  1131333963   \n",
       "40001      802    23084  1141534830   \n",
       "\n",
       "                                               neg_items  \n",
       "3070   [2733, 21244, 30404, 32104, 20758, 14936, 1543...  \n",
       "9086   [15042, 23307, 36951, 13161, 26636, 33076, 133...  \n",
       "18112  [5209, 6178, 4864, 8390, 895, 30143, 32905, 26...  \n",
       "19100  [11591, 11318, 9009, 31839, 18492, 14673, 2626...  \n",
       "40001  [18356, 11466, 13750, 34440, 33375, 18505, 158...  "
      ]
     },
     "execution_count": 18,
     "metadata": {},
     "output_type": "execute_result"
    }
   ],
   "source": [
    "test_df.head()"
   ]
  },
  {
   "cell_type": "code",
   "execution_count": 19,
   "metadata": {},
   "outputs": [],
   "source": [
    "# save results\n",
    "\n",
    "train_df.to_csv(os.path.join(RAW_PATH, 'train.csv'), sep='\\t', index=False)\n",
    "dev_df.to_csv(os.path.join(RAW_PATH, 'dev.csv'), sep='\\t', index=False)\n",
    "test_df.to_csv(os.path.join(RAW_PATH, 'test.csv'), sep='\\t', index=False)"
   ]
  },
  {
   "cell_type": "markdown",
   "metadata": {},
   "source": [
    "# Metadata"
   ]
  },
  {
   "cell_type": "code",
   "execution_count": 27,
   "metadata": {},
   "outputs": [],
   "source": [
    "meta_df = meta_df[meta_df['item_id'].isin(item2id.keys())]\n",
    "meta_df['item_id_m'] = meta_df['item_id'].apply(lambda x: item2id[x])"
   ]
  },
  {
   "cell_type": "code",
   "execution_count": 29,
   "metadata": {},
   "outputs": [],
   "source": [
    "meta_df.to_csv(os.path.join(RAW_PATH, 'item_meta.csv'), index=False)"
   ]
  }
 ],
 "metadata": {
  "kernelspec": {
   "display_name": "venv",
   "language": "python",
   "name": "python3"
  },
  "language_info": {
   "codemirror_mode": {
    "name": "ipython",
    "version": 3
   },
   "file_extension": ".py",
   "mimetype": "text/x-python",
   "name": "python",
   "nbconvert_exporter": "python",
   "pygments_lexer": "ipython3",
   "version": "3.8.10"
  }
 },
 "nbformat": 4,
 "nbformat_minor": 4
}
